# Monitoring Demo for HelixAgent
# ==============================

import requests

# Hit the FastAPI service multiple times
for i in range(5):
    resp = requests.get("http://localhost:8000/")
    print(f"Request {i+1} status:", resp.status_code)

# Fetch Prometheus metrics
metrics = requests.get("http://localhost:8000/metrics").text
print("Prometheus Metrics Sample:")
print(metrics[:500])  # Print first 500 chars
