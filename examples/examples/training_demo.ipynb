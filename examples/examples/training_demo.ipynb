# Training Demo for HelixAgent
# ============================

from src.utils.logger import setup_logger
from src.utils.tracker import ExperimentTracker
import time

log = setup_logger()
tracker = ExperimentTracker()

# Simulate training loop
with tracker.start_run("training-demo"):
    for epoch in range(1, 6):
        acc = 0.75 + epoch * 0.05
        loss = 1.0 / epoch
        tracker.log_metrics({"accuracy": acc, "loss": loss}, step=epoch)
        log.info(f"Epoch {epoch}: acc={acc:.2f}, loss={loss:.3f}")
        time.sleep(1)

log.info("Training demo completed successfully.")
