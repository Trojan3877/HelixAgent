# Quickstart Notebook for HelixAgent
# ==================================

from src.utils.logger import setup_logger
from src.data_ingest import DataIngestor
from src.utils.tracker import ExperimentTracker

# Setup logger
log = setup_logger()

# Load & preprocess dataset
ingestor = DataIngestor("data/sample_dataset.csv")
df = ingestor.load_data()
df = ingestor.preprocess()
train, val, test = ingestor.split_data()

log.info("Data pipeline completed successfully.")

# Track experiment in MLflow
tracker = ExperimentTracker()
with tracker.start_run("quickstart-run"):
    tracker.log_params({"batch_size": 32, "learning_rate": 0.001})
    tracker.log_metrics({"accuracy": 0.87}, step=1)

log.info("Experiment tracking finished.")
