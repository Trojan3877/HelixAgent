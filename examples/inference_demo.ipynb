# Inference Demo for HelixAgent
# =============================

import requests

# Assuming FastAPI is running on localhost:8000
resp = requests.get("http://localhost:8000/")
print("API Response:", resp.json())

# Example inference endpoint (to be added later)
# resp = requests.post("http://localhost:8000/predict", json={"text": "Hello, Helix!"})
# print("Prediction:", resp.json())
